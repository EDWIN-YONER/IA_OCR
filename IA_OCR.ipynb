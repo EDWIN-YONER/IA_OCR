{
  "nbformat": 4,
  "nbformat_minor": 0,
  "metadata": {
    "colab": {
      "provenance": [],
      "authorship_tag": "ABX9TyN+VTPQxKv92zorw8xAsCM3",
      "include_colab_link": true
    },
    "kernelspec": {
      "name": "python3",
      "display_name": "Python 3"
    },
    "language_info": {
      "name": "python"
    }
  },
  "cells": [
    {
      "cell_type": "markdown",
      "metadata": {
        "id": "view-in-github",
        "colab_type": "text"
      },
      "source": [
        "<a href=\"https://colab.research.google.com/github/EDWIN-YONER/IA_OCR/blob/main/IA_OCR.ipynb\" target=\"_parent\"><img src=\"https://colab.research.google.com/assets/colab-badge.svg\" alt=\"Open In Colab\"/></a>"
      ]
    },
    {
      "cell_type": "markdown",
      "source": [
        "*Las siguientes dos líneas es un comando que se ejecuta en una consola de comandos de Linux. El prefijo \"sudo\" indica que se requieren permisos de superusuario para poder instalar la herramienta. Tambien utiliza el administrador de paquetes \"pip\"`*"
      ],
      "metadata": {
        "id": "ZEka7CUaMN0a"
      }
    },
    {
      "cell_type": "code",
      "execution_count": null,
      "metadata": {
        "id": "F-B9BPiAFWZm"
      },
      "outputs": [],
      "source": [
        "#Instala la herramienta de reconocimiento óptico de caracteres (OCR) \"tesseract-ocr\"\n",
        "!sudo apt install tesseract-ocr \n",
        "\n",
        "#Instala dos paquetes de Python llamados \"pillow\" y \"pytesseract\".\n",
        "!pip install pillow pytesseract "
      ]
    },
    {
      "cell_type": "code",
      "source": [
        "#Se importa la clase \"Image\" del paquete \"PIL\". Esta clase permite trabajar con imágenes en Python.\n",
        "from PIL import Image \n",
        "\n",
        "#Esta línea carga la imagen \"imagen.jpg\" utilizando la clase \"Image\" del paquete \"PIL\" y la almacena en la variable \"img\".\n",
        "img = Image.open(\"imagen.jpg\")\n"
      ],
      "metadata": {
        "id": "ryS4kqYeFlAF"
      },
      "execution_count": null,
      "outputs": []
    },
    {
      "cell_type": "code",
      "source": [
        "#Se importa el paquete \"pytesseract\" para el reconocimiento óptico de caracteres.\n",
        "import pytesseract\n",
        "\n",
        "'''\n",
        "Esta línea utiliza la función \"image_to_string()\" del paquete \"pytesseract\" \n",
        "para procesar la imagen almacenada en la variable \"img\" y convertirla en un texto legible. \n",
        "El texto resultante se almacena en la variable \"texto\".\n",
        "'''\n",
        "texto = pytesseract.image_to_string(img)\n",
        "\n",
        "#Esta línea imprime el texto resultante en la consola de Colab.\n",
        "print(texto)\n",
        "\n",
        "'''\n",
        "Estas dos líneas abren un archivo llamado \"resultado.txt\" en modo de escritura (\"mode ='w'\") y \n",
        "escriben el texto resultante en el archivo. La sintaxis \"with open(...) as file:\" \n",
        "asegura que el archivo se cierre adecuadamente después de escribir en él.\n",
        "'''\n",
        "with open('resultado.txt', mode ='w') as file:\n",
        "  file.write(texto)\n"
      ],
      "metadata": {
        "id": "hkiplQPtISKz"
      },
      "execution_count": null,
      "outputs": []
    }
  ]
}